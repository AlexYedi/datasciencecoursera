{
 "cells": [
  {
   "cell_type": "markdown",
   "id": "42fa7aab-48eb-495c-a160-4e3b56bda083",
   "metadata": {},
   "source": [
    "# Data Science Ecosystem Notebook"
   ]
  },
  {
   "cell_type": "markdown",
   "id": "48596016-92fb-4650-b370-893563e40811",
   "metadata": {},
   "source": [
    "In this notebook, Data Science Tools and Ecosystem are summarized."
   ]
  },
  {
   "cell_type": "markdown",
   "id": "c5eb50d9-b269-48c0-86e5-4bc755f36e81",
   "metadata": {},
   "source": [
    "Some of the popular languages that Data Scientists use are:\n",
    "1. Python\n",
    "2. R\n",
    "3. Scala\n",
    "4. Julia"
   ]
  },
  {
   "cell_type": "markdown",
   "id": "3fc66719-f539-4f97-b069-5e1cba72dd79",
   "metadata": {},
   "source": [
    "Some of the commonly used libraries used by Data Scientists include:\n",
    "1. Scikit-learn\n",
    "2. Seaborn\n",
    "3. Pandas\n",
    "4. Tensorflow\n",
    "5. SciPy"
   ]
  },
  {
   "cell_type": "markdown",
   "id": "f7a76d33-9a80-40f1-bf56-1c521038e63f",
   "metadata": {},
   "source": [
    "Below is a table of open-source, development environment Data Science tools\n",
    "|Data Science Tools|\n",
    "| ---|\n",
    "|Jupyter Notebooks|\n",
    "|Zeppelin Notebooks|\n",
    "|R Studio's|"
   ]
  },
  {
   "cell_type": "markdown",
   "id": "da11c301-dd54-4b82-8b77-9dcb758d7ad5",
   "metadata": {},
   "source": [
    "Below are a few examples of evaluating arithmetic expressions in Python.\n",
    "\n",
    "|Arithmetic Operators|Meaning|\n",
    "|---|---|\n",
    "|+|Addition|\n",
    "|-|Subtraction|\n",
    "|*|Multiplication|\n",
    "|/|Division|\n",
    "|**|Exponent|"
   ]
  },
  {
   "cell_type": "markdown",
   "id": "b07815fb-9b83-41ed-9934-ac7f6b706e52",
   "metadata": {},
   "source": [
    "This a simple arithmetic expression to mutiply then add integers."
   ]
  },
  {
   "cell_type": "code",
   "execution_count": 22,
   "id": "536640b6-d2ad-40d1-9dd6-233edbb59244",
   "metadata": {},
   "outputs": [
    {
     "name": "stdout",
     "output_type": "stream",
     "text": [
      "17\n"
     ]
    }
   ],
   "source": [
    "x = (3*4)+5\n",
    "print(x)"
   ]
  },
  {
   "cell_type": "code",
   "execution_count": 26,
   "id": "4899d8ed-cf65-4afa-bdf9-44d1d009bdfb",
   "metadata": {},
   "outputs": [
    {
     "name": "stdout",
     "output_type": "stream",
     "text": [
      "3.3333333333333335\n"
     ]
    }
   ],
   "source": [
    "minutes = 200\n",
    "minutes_per_hour = 60\n",
    "hours = minutes / minutes_per_hour\n",
    "print(hours)"
   ]
  },
  {
   "cell_type": "markdown",
   "id": "5648eb30-59b0-4253-892f-8be452f5057a",
   "metadata": {},
   "source": [
    "**Objectives:**"
   ]
  },
  {
   "cell_type": "markdown",
   "id": "6c3e3f95-68fe-41bc-add1-a2d514df889a",
   "metadata": {},
   "source": [
    "- Understand critical programming languages in Data Science\n",
    "- Understand critical Libraries within those languages\n",
    "- Understand critical development environments to leverage the languages and their libraries \n",
    "- See a few simple lines of code in action"
   ]
  },
  {
   "cell_type": "markdown",
   "id": "82e50b44-c638-4ab9-a40d-00dde3798d34",
   "metadata": {},
   "source": [
    "## Author"
   ]
  },
  {
   "cell_type": "markdown",
   "id": "767b9551-df8a-4c50-aa0b-9cba1a8f21e3",
   "metadata": {},
   "source": [
    "Alex Yedibalian"
   ]
  },
  {
   "cell_type": "code",
   "execution_count": null,
   "id": "c819ebb6-840a-442a-9a27-ed4a5e6c0a77",
   "metadata": {},
   "outputs": [],
   "source": []
  }
 ],
 "metadata": {
  "kernelspec": {
   "display_name": "Python 3 (ipykernel)",
   "language": "python",
   "name": "python3"
  },
  "language_info": {
   "codemirror_mode": {
    "name": "ipython",
    "version": 3
   },
   "file_extension": ".py",
   "mimetype": "text/x-python",
   "name": "python",
   "nbconvert_exporter": "python",
   "pygments_lexer": "ipython3",
   "version": "3.11.7"
  }
 },
 "nbformat": 4,
 "nbformat_minor": 5
}
